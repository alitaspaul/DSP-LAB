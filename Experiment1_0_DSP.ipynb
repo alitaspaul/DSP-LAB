{
  "nbformat": 4,
  "nbformat_minor": 0,
  "metadata": {
    "colab": {
      "provenance": [],
      "authorship_tag": "ABX9TyPrsZz35HQZEIbHTGqa9RIB",
      "include_colab_link": true
    },
    "kernelspec": {
      "name": "python3",
      "display_name": "Python 3"
    },
    "language_info": {
      "name": "python"
    }
  },
  "cells": [
    {
      "cell_type": "markdown",
      "metadata": {
        "id": "view-in-github",
        "colab_type": "text"
      },
      "source": [
        "<a href=\"https://colab.research.google.com/github/alitaspaul/DSP-LAB/blob/master/Experiment1_0_DSP.ipynb\" target=\"_parent\"><img src=\"https://colab.research.google.com/assets/colab-badge.svg\" alt=\"Open In Colab\"/></a>"
      ]
    },
    {
      "cell_type": "code",
      "source": [
        "import numpy as np\n",
        "import math"
      ],
      "metadata": {
        "id": "aSsi-rUBEHgA"
      },
      "execution_count": null,
      "outputs": []
    },
    {
      "cell_type": "code",
      "source": [
        "def circ_conv(x1,x2):\n",
        "  if len(x1)<len(x2):\n",
        "    x1 = np.pad (x1, (0, len(x2)-len(x1)))\n",
        "  elif len(x1)>len(x2):\n",
        "    x2 = np.pad (x2, (0, len(x1)-len(x2)))\n",
        "  X1 = np.fft.fft(x1)\n",
        "  X2 = np.fft.fft(x2)\n",
        "  X = X1*X2\n",
        "  return np.fft.ifft(X).astype(int)\n"
      ],
      "metadata": {
        "id": "OFb6fYDfBXF1"
      },
      "execution_count": null,
      "outputs": []
    },
    {
      "cell_type": "code",
      "execution_count": null,
      "metadata": {
        "colab": {
          "base_uri": "https://localhost:8080/"
        },
        "id": "rpk3D63aDNI0",
        "outputId": "29bff862-c933-4ca7-8f62-ecd7cd834a51"
      },
      "outputs": [
        {
          "output_type": "stream",
          "name": "stdout",
          "text": [
            "Enter the input sequence1,2,-1,2,3,-2,-3,-1,1,1,2,-1\n",
            "Enter the inpulse sequence1,1,1\n",
            "Enter the length of the block3\n",
            "[1, 0, 1, 3, 2]\n",
            "[2, -1, 2, 3, -2]\n",
            "[3, 0, 3, 4, 3]\n",
            "[3, -2, -3, -1, 1]\n",
            "[3, 1, -2, -6, -3]\n",
            "[-1, 1, 1, 2, -1]\n",
            "[0, 0, 1, 4, 2]\n",
            "[2, -1, 0, 0, 0]\n",
            "[2, 0, 0, 0, 0]\n"
          ]
        },
        {
          "output_type": "stream",
          "name": "stderr",
          "text": [
            "<ipython-input-6-cc8a435e585a>:19: ComplexWarning: Casting complex values to real discards the imaginary part\n",
            "  return np.fft.ifft(X).astype(int)\n"
          ]
        }
      ],
      "source": [
        "#overlap save method\n",
        "import numpy as np\n",
        "import math\n",
        "x = np.array(input(\"Enter the input sequence\").split(\",\")).astype(int)\n",
        "h = np.array(input(\"Enter the inpulse sequence\").split(\",\")).astype(int)\n",
        "m = len(h)\n",
        "L = int(input(\"Enter the length of the block\"))\n",
        "total = len(x)+m-1\n",
        "block = math.ceil(total/L)\n",
        "\n",
        "def circ_conv(x1,x2):\n",
        "  if len(x1)<len(x2):\n",
        "    x1 = np.pad (x1, (0, len(x2)-len(x1)))\n",
        "  elif len(x1)>len(x2):\n",
        "    x2 = np.pad (x2, (0, len(x1)-len(x2)))\n",
        "  X1 = np.fft.fft(x1)\n",
        "  X2 = np.fft.fft(x2)\n",
        "  X = X1*X2\n",
        "  return np.fft.ifft(X).astype(int)\n",
        "\n",
        "list1=[]\n",
        "final=[]\n",
        "y = 0\n",
        "for i in range (block):\n",
        "  if (i ==0):\n",
        "    for i in range (m-1):\n",
        "      list1.append(0)\n",
        "    for j in range (L):\n",
        "      list1.append(x[y])\n",
        "      y+=1\n",
        "    list2 = list1\n",
        "    list1 = []\n",
        "    out= (circ_conv(np.array(list2),h))\n",
        "    out = out.tolist()\n",
        "    final.extend(out[(m-1):])\n",
        "\n",
        "  else:\n",
        "    for i in range (m - 1):\n",
        "      list1.append(list2[(1-m)+i])\n",
        "    for i in range (L):\n",
        "      if y>= len(x):\n",
        "        list1.append(0)\n",
        "      else:\n",
        "        list1.append(x[y])\n",
        "        y+=1\n",
        "    list2 = list1\n",
        "    print(list1)\n",
        "    list1 = []\n",
        "    out= (circ_conv(np.array(list2),h))\n",
        "    out = out.tolist()\n",
        "    final.extend(out[(m-1):])\n",
        "# print(final[:total])\n",
        "# print(np.convolve(x,h))"
      ]
    },
    {
      "cell_type": "code",
      "source": [
        "#overlap add\n",
        "import numpy as np\n",
        "import math\n",
        "x = np.array(input(\"Enter the input sequence\").split(\",\")).astype(int)\n",
        "h = np.array(input(\"Enter the inpulse sequence\").split(\",\")).astype(int)\n",
        "m = len(h)\n",
        "L = int(input(\"Enter the length of the block\"))\n",
        "total = len(x)+m-1\n",
        "block = math.ceil(total/L)\n",
        "\n",
        "list1=[]\n",
        "final=[]\n",
        "y= 0\n",
        "for i in range (block):\n",
        "  if i==0:\n",
        "    for i in range (L):\n",
        "      list1.append(x[y])\n",
        "      y+=1\n",
        "    for j in range (m-1):\n",
        "      list1.append(0)\n",
        "    out = (circ_conv(np.array(list1),h)).tolist()\n",
        "    list2 = out\n",
        "    final.extend(out[:L])\n",
        "    list1 = []\n",
        "\n",
        "  else:\n",
        "    for i in range (L):\n",
        "      if y<len(x):\n",
        "        list1.append(x[y])\n",
        "        y+=1\n",
        "      else:\n",
        "        list1.append(0)\n",
        "\n",
        "    for j in range (m-1):\n",
        "      list1.append(0)\n",
        "\n",
        "    out = (circ_conv(np.array(list1),h)).tolist()\n",
        "    for i in range(m-1):\n",
        "      final.append(out[i]+list2[(1-m)+i])\n",
        "    final.extend(out[m-1:1-m])\n",
        "    list2 = out\n",
        "    list1 =[]\n",
        "print(final[:total])\n"
      ],
      "metadata": {
        "colab": {
          "base_uri": "https://localhost:8080/"
        },
        "id": "vLzsfJpiDgJu",
        "outputId": "1d63af71-8a95-4902-cd65-034e9ad90604"
      },
      "execution_count": null,
      "outputs": [
        {
          "output_type": "stream",
          "name": "stdout",
          "text": [
            "Enter the input sequence1,2,-1,2,3,-2,-3,-1,1,1,2,-1\n",
            "Enter the inpulse sequence1,2\n",
            "Enter the length of the block3\n",
            "[1, 4, 3, -2]\n",
            "[1, 4, 3]\n",
            "[1, 4, 3, 0, 7, 4, -7, -7, -1, 3, 4, 3, -2]\n"
          ]
        },
        {
          "output_type": "stream",
          "name": "stderr",
          "text": [
            "<ipython-input-11-270cddc941fd>:19: ComplexWarning: Casting complex values to real discards the imaginary part\n",
            "  return np.fft.ifft(X).astype(int)\n"
          ]
        }
      ]
    }
  ]
}