{
  "nbformat": 4,
  "nbformat_minor": 0,
  "metadata": {
    "colab": {
      "provenance": [],
      "gpuType": "T4",
      "authorship_tag": "ABX9TyPThCH9xkDftsapleRaz6dA",
      "include_colab_link": true
    },
    "kernelspec": {
      "name": "python3",
      "display_name": "Python 3"
    },
    "language_info": {
      "name": "python"
    },
    "accelerator": "GPU"
  },
  "cells": [
    {
      "cell_type": "markdown",
      "metadata": {
        "id": "view-in-github",
        "colab_type": "text"
      },
      "source": [
        "<a href=\"https://colab.research.google.com/github/alitaspaul/DSP-LAB/blob/master/Experiment7_DSP.ipynb\" target=\"_parent\"><img src=\"https://colab.research.google.com/assets/colab-badge.svg\" alt=\"Open In Colab\"/></a>"
      ]
    },
    {
      "cell_type": "markdown",
      "source": [
        "EXPERIMENT-7\n",
        "\n",
        "---\n",
        "\n",
        "\n",
        "\n",
        "**Properties of DFT**\n",
        "\n",
        "---\n",
        "\n",
        "\n",
        "DATE: 29/08/2023\n",
        "\n",
        "---\n",
        "\n",
        "\n",
        "AIM:\n",
        "\n",
        "Write a program to verify the following properties of DFT\n",
        "\n",
        "i) Duality\n",
        "\n",
        "ii) Multiplication\n",
        "\n",
        "iii) Circular convolution\n",
        "\n",
        "iv) Parseval’s theorem.\n",
        "\n",
        "---\n",
        "\n",
        "\n",
        "\n",
        "SOFTWARE USED:\n",
        "\n",
        "Python\n",
        "\n",
        "\n",
        "---\n",
        "\n",
        "\n",
        "THEORY:\n",
        "\n",
        "i. Duality property:\n",
        "\n",
        " Let us consider a signal x(n), whose DFT is given as X(k). Let the finite duration sequence be XNN. Then according to duality theorem,\n",
        "\n",
        "  If, x(n)⟷X(K) => X(N)⟷Nx[((−k)) .\n",
        "\n",
        "So, by using this theorem if we know DFT, we can easily find the finite duration sequence.\n",
        "\n",
        "ii. Multiplication:\n",
        "\n",
        " If there are two signal x1(n) and x2(n) and their respective DFTs are X1(k) and X2(K), then multiplication of signals in time sequence corresponds to circular convolution of their DFTs.\n",
        "\n",
        " If, x1(n)⟷X1(K) & x2(n)⟷X2(K)\n",
        "\n",
        " then, x1(n) x x2(n)⟷X1(K)©X2(K) => Circular convolution\n",
        "\n",
        "\n",
        "iii. Circular convolution:\n",
        "\n",
        " Circular convolution using Matrix method represents the two given sequence x1(n) and x2(n) in matrix form.\n",
        "\n",
        " One of the given sequences is repeated via circular shift of one sample at a time to form an N X N matrix.\n",
        "\n",
        " The other sequence is represented as column matrix.\n",
        "\n",
        "\n",
        " The multiplication of two matrices give the result of circular convolution.\n",
        "\n",
        "\n",
        "iv. Parseval’s theorem:\n",
        "\n",
        "The Parseval’s theorem expresses the energy of a signal in time-domain in terms of the average energy in its frequency components.\n",
        "\n",
        "![parsevals theorem.png](data:image/png;base64,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)"
      ],
      "metadata": {
        "id": "QuV3YBkMvkf8"
      }
    },
    {
      "cell_type": "code",
      "execution_count": null,
      "metadata": {
        "id": "8tphK8zsbqZh"
      },
      "outputs": [],
      "source": [
        "import numpy as np\n",
        "import matplotlib.pyplot as plt"
      ]
    },
    {
      "cell_type": "code",
      "source": [
        "#dft function to be used to prove the properties:\n",
        "def dft(x,k):\n",
        "\n",
        "\n",
        "  #output array\n",
        "  y = np.zeros(k,dtype = 'complex') #because we need a complex matrix as output\n",
        "  for i in range (k):\n",
        "    sum = 0\n",
        "    for m in range (k):\n",
        "      sum += x[m]*np.exp(complex(-1j)*2*np.pi*i*m*float(1/k))\n",
        "    y[i] = sum\n",
        "  return y"
      ],
      "metadata": {
        "id": "vvyrO9GZb-oN"
      },
      "execution_count": null,
      "outputs": []
    },
    {
      "cell_type": "code",
      "source": [
        "#Duality Property : ax1 + bx2 = ay1 + by2\n",
        "x1 = np.array(input(\"Enter the sequence of x1:\").split(\",\")).astype(int)\n",
        "x2 = np.array(input(\"Enter the sequence of x2:\").split(\",\")).astype(int)\n",
        "a = int(input(\"Enter the value of coefficient of a:\"))\n",
        "b = int(input(\"Enter the value of coefficient of b:\"))\n",
        "\n",
        "if len(x1)<len(x2):\n",
        "  x1 = np.pad (x1, (0, len(x2-len(x1))))\n",
        "elif len(x1)>len(x2):\n",
        "  x2 = np.pad (x2, (0, len(x1-len(x2))))\n",
        "\n",
        "k1 = len(x1) #size of the sequence\n",
        "#lhs : ax1+bx2\n",
        "\n",
        "xl1 = a*x1\n",
        "xl2 = b*x2\n",
        "X = xl1+xl2\n",
        "\n",
        "lhs = dft(X,k1)\n",
        "print(\"The value of DFT {ax1[n]+ax2[n]}: \\n\", lhs)\n",
        "\n",
        "X1 = a*dft(x1,k1)\n",
        "X2 = b*dft(x2,k1)\n",
        "print(\"The value of DFT {ax1[n]} + DFT {ax2[n]}: \\n\", X1+X2)\n",
        "\n",
        "print(\"Thus proved Linearity property of DFT.\")\n",
        "\n",
        "\n",
        "\n",
        "\n"
      ],
      "metadata": {
        "colab": {
          "base_uri": "https://localhost:8080/"
        },
        "id": "C37LuHbqcCqy",
        "outputId": "65c2d728-d57e-48fa-fbdf-4e2d7b4c81b6"
      },
      "execution_count": 49,
      "outputs": [
        {
          "output_type": "stream",
          "name": "stdout",
          "text": [
            "Enter the sequence of x1:1,2,3,4\n",
            "Enter the sequence of x2:1,2,1,2\n",
            "Enter the value of coefficient of a:3\n",
            "Enter the value of coefficient of b:2\n",
            "The value of DFT {ax1[n]+ax2[n]}: \n",
            " [ 42.+0.00000000e+00j  -6.+6.00000000e+00j -10.-4.40872848e-15j\n",
            "  -6.-6.00000000e+00j]\n",
            "The value of DFT {ax1[n]} + DFT {ax2[n]}: \n",
            " [ 42.+0.00000000e+00j  -6.+6.00000000e+00j -10.-4.40872848e-15j\n",
            "  -6.-6.00000000e+00j]\n",
            "Thus proved Linearity property of DFT.\n"
          ]
        }
      ]
    },
    {
      "cell_type": "code",
      "source": [
        "#Multiplication : it is convolution in freq domain\n",
        "x1 = np.array(input(\"Enter the sequence of x1:\").split(\",\")).astype(int)\n",
        "x2 = np.array(input(\"Enter the sequence of x2:\").split(\",\")).astype(int)\n",
        "\n",
        "if len(x1)<len(x2):\n",
        "  x1 = np.pad (x1, (0, len(x2-len(x1))))\n",
        "elif len(x1)>len(x2):\n",
        "  x2 = np.pad (x2, (0, len(x1-len(x2))))\n",
        "\n",
        "k = len(x1)\n",
        "\n",
        "#lhs\n",
        "X = x1*x2\n",
        "print(\"The LHS of operation:\\n\",dft(X,k))\n",
        "\n",
        "#rhs\n",
        "X1 = dft(x1,k)\n",
        "X2 = dft(x2,k)\n",
        "y= np.fft.ifft(dft(X1,k)*dft(X2,k))/k; #stockholm method\n",
        "print(\"The RHS of operation:\\n\",y)\n",
        "\n",
        "print(\"Thus proved Multiplication property of DFT.\")\n",
        "\n",
        "\n",
        "\n"
      ],
      "metadata": {
        "id": "dYvyE2Ltuv0Y",
        "colab": {
          "base_uri": "https://localhost:8080/"
        },
        "outputId": "b058605b-c495-4e7d-f00d-7e371ba34bf2"
      },
      "execution_count": 55,
      "outputs": [
        {
          "output_type": "stream",
          "name": "stdout",
          "text": [
            "Enter the sequence of x1:1,2,3,4\n",
            "Enter the sequence of x2:5,6,7,8\n",
            "The LHS of operation:\n",
            " [ 70.+0.00000000e+00j -16.+2.00000000e+01j -18.-8.08266887e-15j\n",
            " -16.-2.00000000e+01j]\n",
            "The RHS of operation:\n",
            " [ 70.+9.71445147e-15j -16.+2.00000000e+01j -18.-1.16018306e-14j\n",
            " -16.-2.00000000e+01j]\n",
            "Thus proved Multiplication property of DFT.\n"
          ]
        }
      ]
    },
    {
      "cell_type": "code",
      "source": [
        "#parsevals theorem\n",
        "x1 = np.array(input(\"Enter the sequence of x1:\").split(\",\")).astype(int)\n",
        "k = len(x1)\n",
        "X1 = dft(x1,k)\n",
        "\n",
        "lhs = float(sum(abs(x1*x1)))\n",
        "rhs = sum((abs(X1*X1))/k)\n",
        "\n",
        "print(\"The LHS of Parseval's Theorem:\\n\",lhs)\n",
        "print(\"The RHS of Parseval's Theorem:\\n\",rhs)\n",
        "\n",
        "print(\"Thus proved Parseval's Theorem.\")"
      ],
      "metadata": {
        "id": "gTZxkx7F2kUN",
        "colab": {
          "base_uri": "https://localhost:8080/"
        },
        "outputId": "cd4894e3-a3ed-43ab-aeb9-4985148ecc3e"
      },
      "execution_count": 48,
      "outputs": [
        {
          "output_type": "stream",
          "name": "stdout",
          "text": [
            "Enter the sequence of x1:1,2,3,4\n",
            "The LHS of Parseval's Theorem:\n",
            " 30.0\n",
            "The RHS of Parseval's Theorem:\n",
            " 30.0\n",
            "Thus proved Parseval's Theorem.\n"
          ]
        }
      ]
    }
  ]
}