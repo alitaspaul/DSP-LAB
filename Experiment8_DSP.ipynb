{
  "nbformat": 4,
  "nbformat_minor": 0,
  "metadata": {
    "colab": {
      "provenance": [],
      "authorship_tag": "ABX9TyM5MqomLyNf8XOoRNYGx5Xh",
      "include_colab_link": true
    },
    "kernelspec": {
      "name": "python3",
      "display_name": "Python 3"
    },
    "language_info": {
      "name": "python"
    }
  },
  "cells": [
    {
      "cell_type": "markdown",
      "metadata": {
        "id": "view-in-github",
        "colab_type": "text"
      },
      "source": [
        "<a href=\"https://colab.research.google.com/github/alitaspaul/DSP-LAB/blob/master/Experiment8_DSP.ipynb\" target=\"_parent\"><img src=\"https://colab.research.google.com/assets/colab-badge.svg\" alt=\"Open In Colab\"/></a>"
      ]
    },
    {
      "cell_type": "markdown",
      "source": [
        "EXPERIMENT-8\n",
        "\n",
        "---\n",
        "\n",
        "\n",
        "\n",
        "**Linear Convolution Using Circular Convolution**\n",
        "\n",
        "---\n",
        "\n",
        "\n",
        "DATE: 09/10/2023\n",
        "\n",
        "---\n",
        "\n",
        "\n",
        "AIM:\n",
        "\n",
        "Write a program to find linear convolution using circular convolution using DFT and IDFT equation.\n",
        "\n",
        "---\n",
        "\n",
        "\n",
        "\n",
        "SOFTWARE USED:\n",
        "\n",
        "Python\n",
        "\n",
        "\n",
        "---\n",
        "\n",
        "\n",
        "THEORY:\n",
        "\n",
        "For two vectors, x and h, the circular convolution is equal to the inverse discrete Fourier transform (IDFT) of the product of the vectors' DFTs. Knowing the conditions under which linear and circular convolution are equivalent allows us to use the DFT to efficiently compute linear convolutions. The linear convolution of an L-point vector and an M-point vector, h has length N = L+M-1.\n"
      ],
      "metadata": {
        "id": "ZG3q9NDP-ms_"
      }
    },
    {
      "cell_type": "code",
      "source": [
        "import numpy as np\n",
        "import math"
      ],
      "metadata": {
        "id": "6riim-IW8zwq"
      },
      "execution_count": 7,
      "outputs": []
    },
    {
      "cell_type": "code",
      "execution_count": null,
      "metadata": {
        "colab": {
          "base_uri": "https://localhost:8080/"
        },
        "id": "DuSQwCIP1ewd",
        "outputId": "1593692d-54fc-4cb1-c5b4-4349291815c3"
      },
      "outputs": [
        {
          "output_type": "stream",
          "name": "stdout",
          "text": [
            "Enter the sequence of x1:1,2,3,4,5\n",
            "Enter the sequence of x2:3,7,10\n",
            "The result of linear convolution using circular convolution using matrix method is:  [ 3 13 33 53 73 75 50]\n"
          ]
        }
      ],
      "source": [
        "#linear convolution using circular convolution - using matrix method\n",
        "x1 = np.array(input(\"Enter the sequence of x1:\").split(\",\")).astype(int)\n",
        "x2 = np.array(input(\"Enter the sequence of x2:\").split(\",\")).astype(int)\n",
        "\n",
        "L = len(x1)+len(x2)-1 # for linear convolution you have to make length x1,x2 = length of the comvolution matrix, so...\n",
        "x1 = np.pad (x1, (0, (L - len(x1)))) #pad zeroes to make len of x1 and x2 = L\n",
        "x2 = np.pad (x2, (0, (L - len(x2))))\n",
        "\n",
        "k = len(x1) #to make convolution matrix\n",
        "\n",
        "#circular convolution using matrix multiplication:\n",
        "#x1 array : roll it, and make the convolution matrix\n",
        "z = x1\n",
        "for i in range (k-1):\n",
        "  x1 = np.roll(x1,1)\n",
        "  z = np.concatenate((z,x1))\n",
        "\n",
        "z = z.reshape(k,k)\n",
        "z = np.transpose (z) #matrix to multiply (x1 rolled) : kxk matrix\n",
        "\n",
        "\n",
        "ans = np.dot(z,x2) #matrix multiplication\n",
        "print(\"The result of linear convolution using circular convolution using matrix method is: \",ans)\n",
        "\n"
      ]
    },
    {
      "cell_type": "code",
      "source": [
        "#circular convolution using dft and idft equation\n",
        "#circular convolution in time domain - multiplication in frequency domain\n",
        "x1 = np.array(input(\"Enter the sequence of x1:\").split(\",\")).astype(int)\n",
        "x2 = np.array(input(\"Enter the sequence of x2:\").split(\",\")).astype(int)\n",
        "x11 = x1\n",
        "x22 = x2\n",
        "\n",
        "L = len(x1)+len(x2)-1 # for linear convolution you have to make length x1,x2 = length of the comvolution matrix, so...\n",
        "x1 = np.pad (x1, (0, (L - len(x1)))) #pad zeroes to make len of x1 and x2 = L\n",
        "x2 = np.pad (x2, (0, (L - len(x2))))\n",
        "\n",
        "X1 = np.fft.fft(x1)\n",
        "X2 = np.fft.fft(x2)\n",
        "y = (np.fft.ifft(X1*X2)).astype(float)\n",
        "print (\"The result of linear convolution using circular convolution from dft and idft is: \",y)\n",
        "print (\"The result of linear convolution using in-built python function is:\", np.convolve(x11,x22))"
      ],
      "metadata": {
        "colab": {
          "base_uri": "https://localhost:8080/"
        },
        "id": "YR3nJCkz_DbS",
        "outputId": "4251fe7e-0837-4822-dd7e-cdaad76d24a6"
      },
      "execution_count": 13,
      "outputs": [
        {
          "output_type": "stream",
          "name": "stdout",
          "text": [
            "Enter the sequence of x1:1,2,3,4,5\n",
            "Enter the sequence of x2:3,7,10\n",
            "The result of linear convolution using circular convolution from dft and idft is:  [ 3. 13. 33. 53. 73. 75. 50.]\n",
            "The result of linear convolution using in-built python function is: [ 3 13 33 53 73 75 50]\n"
          ]
        },
        {
          "output_type": "stream",
          "name": "stderr",
          "text": [
            "<ipython-input-13-b7bfdb68ebbd>:14: ComplexWarning: Casting complex values to real discards the imaginary part\n",
            "  y = (np.fft.ifft(X1*X2)).astype(float)\n"
          ]
        }
      ]
    }
  ]
}