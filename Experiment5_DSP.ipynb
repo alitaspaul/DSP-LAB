{
  "nbformat": 4,
  "nbformat_minor": 0,
  "metadata": {
    "colab": {
      "provenance": [],
      "authorship_tag": "ABX9TyO4cn2EYGPjyJkYY96CxOtY",
      "include_colab_link": true
    },
    "kernelspec": {
      "name": "python3",
      "display_name": "Python 3"
    },
    "language_info": {
      "name": "python"
    }
  },
  "cells": [
    {
      "cell_type": "markdown",
      "metadata": {
        "id": "view-in-github",
        "colab_type": "text"
      },
      "source": [
        "<a href=\"https://colab.research.google.com/github/alitaspaul/DSP-LAB/blob/master/Experiment5_DSP.ipynb\" target=\"_parent\"><img src=\"https://colab.research.google.com/assets/colab-badge.svg\" alt=\"Open In Colab\"/></a>"
      ]
    },
    {
      "cell_type": "markdown",
      "source": [
        "EXPERIMENT-5\n",
        "\n",
        "---\n",
        "\n",
        "\n",
        "\n",
        "**Discrete Fourier Transform**\n",
        "\n",
        "---\n",
        "\n",
        "\n",
        "DATE: 11/09/2023\n",
        "\n",
        "---\n",
        "\n",
        "\n",
        "\n",
        "AIM:\n",
        "\n",
        "Write a program to find DFT of any sequence using:\n",
        "\n",
        "i) mathematical expression\n",
        "\n",
        "ii) matrix form(twiddle factor)\n",
        "\n",
        "Plot magnitude and phase response .\n",
        "\n",
        "---\n",
        "\n",
        "\n",
        "\n",
        "SOFTWARE USED:\n",
        "\n",
        "Python\n",
        "\n",
        "\n",
        "---\n",
        "\n",
        "\n",
        "THEORY:\n",
        "\n",
        "Discrete Fourier Transform is a powerful computation tool which allows us to evaluate the Fourier Transform X(𝑒jω) on a digital computer or specially designed digital hardware. Since X(𝑒jω ) is continuous and periodic, the DFT is obtained by sampling one period of the Fourier Transform at a finite number of frequency points. Apart from determining the frequency content of a signal, DFT is used to perform linear filtering operations in the frequency domain.\n",
        "The sequence of N complex numbers𝑥0,..., 𝑥𝑁−1 is transformed into the sequence of N complex numbers 𝑋0,..., 𝑋𝑁−1 by the DFT according to the formula:\n",
        "\n",
        "![dft.jpg](data:image/jpeg;base64,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)\n"
      ],
      "metadata": {
        "id": "XE-9ObVd3YzL"
      }
    },
    {
      "cell_type": "code",
      "source": [
        "import numpy as np\n",
        "import matplotlib.pyplot as plt"
      ],
      "metadata": {
        "id": "ZZ8U0jQn5Es8"
      },
      "execution_count": 4,
      "outputs": []
    },
    {
      "cell_type": "code",
      "source": [
        "#using mathematical equation:\n",
        "x = np.array(input(\"Enter the sequence:\").split(\",\")).astype(int)\n",
        "\n",
        "k = len(x)\n",
        "\n",
        "#output array\n",
        "y = np.zeros(k,dtype = 'complex') #because we need a complex matrix as output\n",
        "\n",
        "for i in range (k):\n",
        "  sum = 0\n",
        "  for m in range (k):\n",
        "    sum += x[m]*np.exp(complex(-1j)*2*np.pi*i*m*float(1/k))\n",
        "  y[i] = sum\n",
        "print(\"The DFT of the input sequence using Mathematical expression is:\\n\",y)\n"
      ],
      "metadata": {
        "colab": {
          "base_uri": "https://localhost:8080/"
        },
        "id": "_EMm9bBJ4iln",
        "outputId": "7ca92e5e-b7ab-4656-faf8-43c085f3da9e"
      },
      "execution_count": 20,
      "outputs": [
        {
          "output_type": "stream",
          "name": "stdout",
          "text": [
            "Enter the sequence:1,2,3,4,5,6,7,8\n",
            "The DFT of the input sequence using Mathematical expression is:\n",
            " [36.+0.00000000e+00j -4.+9.65685425e+00j -4.+4.00000000e+00j\n",
            " -4.+1.65685425e+00j -4.-3.91886976e-15j -4.-1.65685425e+00j\n",
            " -4.-4.00000000e+00j -4.-9.65685425e+00j]\n"
          ]
        }
      ]
    },
    {
      "cell_type": "code",
      "source": [
        "#using matrix form\n",
        "x = np.array(input(\"Enter the sequence:\").split(\",\")).astype(int)\n",
        "\n",
        "k = len(x)\n",
        "\n",
        "#twiddle matrix\n",
        "twiddle = np.ones(k, dtype = \"complex\")\n",
        "\n",
        "for i in range (1,k):\n",
        "  for j in range (k):\n",
        "    num = np.exp(complex(-1j)*2*np.pi*i*j*float(1/k))\n",
        "    twiddle = np.append(twiddle,num)\n",
        "\n",
        "twiddle.shape = (k,k)\n",
        "\n",
        "print(\"The DFT of the input sequence using twiddle matrix is:\\n\", np.dot(twiddle,x))\n",
        "\n",
        "\n",
        "\n"
      ],
      "metadata": {
        "colab": {
          "base_uri": "https://localhost:8080/"
        },
        "id": "IxeJytrA-4sy",
        "outputId": "9bd5c7a6-5980-4f62-cc1f-d079e28af382"
      },
      "execution_count": 33,
      "outputs": [
        {
          "output_type": "stream",
          "name": "stdout",
          "text": [
            "Enter the sequence:1,2,3,4,5,6,7,8\n",
            "The DFT of the input sequence using twiddle matrix is:\n",
            " [36.+0.00000000e+00j -4.+9.65685425e+00j -4.+4.00000000e+00j\n",
            " -4.+1.65685425e+00j -4.-3.91886976e-15j -4.-1.65685425e+00j\n",
            " -4.-4.00000000e+00j -4.-9.65685425e+00j]\n"
          ]
        }
      ]
    }
  ]
}